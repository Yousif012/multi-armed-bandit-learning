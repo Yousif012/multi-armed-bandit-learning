{
 "cells": [
  {
   "cell_type": "code",
   "execution_count": null,
   "metadata": {},
   "outputs": [
    {
     "name": "stdout",
     "output_type": "stream",
     "text": [
      "[0.3366364551254693, -0.3078201655184834, 1.4287094693833176, 1.986505941950653, -0.5381166043115821, -0.6401966776219307]\n"
     ]
    }
   ],
   "source": [
    "from LDPC_decoding import *\n",
    "import pandas as pd\n",
    "import matplotlib.pyplot as plt\n",
    "import seaborn as sns\n",
    "import numpy as np\n",
    "import csv"
   ]
  },
  {
   "cell_type": "raw",
   "metadata": {},
   "source": [
    "# Get parity check matrix from MatLab\n",
    "with open(\"parityCheck.csv\", newline='') as file:\n",
    "    PC = list(csv.reader(file))\n",
    "    \n",
    "# Convert to int type\n",
    "for i in range(len(PC)):\n",
    "    for j in range(len(PC[0])):\n",
    "        PC[i][j] = int(PC[i][j])\n",
    "        \n",
    "lengthOfCode = len(PC[0])\n",
    "B = hammToB(PC)"
   ]
  },
  {
   "cell_type": "raw",
   "metadata": {},
   "source": [
    "B = [[10,30,40],[5,32,45],[16,18,39],[12,22,38],[15,19,47],[2,17,34],[9,24,42],[1,29,33],[4,27,36],[3,26,35],[11,31,43],[7,21,44],[8,20,48],[14,23,46],[6,28,37],[13,25,41],[14,32,43],[5,23,37],[2,31,36],[1,28,34],[7,25,47],[10,21,33],[15,30,35],[16,26,48],[3,22,46],[12,20,41],[8,18,38],[4,19,45],[6,24,40],[9,27,39],[13,17,42],[11,29,44],[8,24,34],[6,25,36],[9,19,43],[1,20,46],[14,27,42],[7,22,39],[13,18,35],[4,26,40],[16,29,38],[15,21,48],[11,23,45],[3,17,47],[5,28,44],[12,32,33],[2,30,41],[10,31,37],[10,18,36],[4,23,44],[9,29,40],[2,27,38],[8,30,42],[12,28,43],[11,20,37],[1,19,35],[15,31,39],[16,32,41],[5,26,33],[3,25,45],[13,21,34],[14,24,48],[7,17,46],[6,22,47],[7,27,40],[11,18,33],[2,32,35],[10,28,47],[5,24,41],[12,25,37],[3,19,39],[14,31,44],[16,30,34],[13,20,38],[9,22,36],[6,17,45],[4,21,42],[15,29,46],[8,26,43],[1,23,48],[1,25,42],[15,22,40],[8,21,41],[9,18,47],[6,27,43],[11,30,46],[7,31,35],[5,20,36],[14,17,38],[16,28,45],[4,32,37],[13,23,33],[12,26,44],[3,29,48],[2,24,39],[10,19,34],[8,20,36,56,80,81],[6,19,47,52,67,95],[10,25,44,60,71,94],[9,28,40,50,77,91],[2,18,45,59,69,88],[15,29,34,64,76,85],[12,21,38,63,65,87],[13,27,33,53,79,83],[7,30,35,51,75,84],[1,22,48,49,68,96],[11,32,43,55,66,86],[4,26,46,54,70,93],[16,31,39,61,74,92],[14,17,37,62,72,89],[5,23,42,57,78,82],[3,24,41,58,73,90],[6,31,44,63,76,89],[3,27,39,49,66,84],[5,28,35,56,71,96],[13,26,36,55,74,88],[12,22,42,61,77,83],[4,25,38,64,75,82],[14,18,43,50,80,92],[7,29,33,62,69,95],[16,21,34,60,70,81],[10,24,40,59,79,93],[9,30,37,52,65,85],[15,20,45,54,68,90],[8,32,41,51,78,94],[1,23,47,53,73,86],[11,19,48,57,72,87],[2,17,46,58,67,91],[8,22,46,59,66,92],[6,20,33,61,73,96],[10,23,39,56,67,87],[9,19,34,49,75,88],[15,18,48,55,70,91],[4,27,41,52,74,89],[3,30,38,57,71,95],[1,29,40,51,65,82],[16,26,47,58,69,83],[7,31,37,53,77,81],[11,17,35,54,79,85],[12,32,45,50,72,93],[2,28,43,60,76,90],[14,25,36,63,78,86],[5,21,44,64,68,84],[13,24,42,62,80,94]]\n",
    "lengthOfCode = 96"
   ]
  },
  {
   "cell_type": "raw",
   "metadata": {},
   "source": []
  },
  {
   "cell_type": "code",
   "execution_count": 1,
   "metadata": {},
   "outputs": [],
   "source": [
    "def initBitToCheck(L, bitToCheck):\n",
    "\tfor i in range(len(bitToCheck)):\n",
    "\t\tbitToCheck[i] = L[:]"
   ]
  },
  {
   "cell_type": "code",
   "execution_count": 2,
   "metadata": {},
   "outputs": [],
   "source": [
    "def sequentialSumProductDecodingSimulation(y, H, maxIterations = 100):\n",
    "\n",
    "    edges = hammToB(H)\n",
    "    M = [[0 for i in range(len(H[0]))] for j in range(len(H))]\n",
    "    initBitToCheck(y, M)\n",
    "    E = [[0 for i in range(len(H[0]))] for j in range(len(H))]\n",
    "\n",
    "\n",
    "    for _ in range(maxIterations):\n",
    "                    \n",
    "        checkNode = int(len(H)*random.uniform(0, 1))\n",
    "        sumProductDecoding(E, M, checkNode, edges)\n",
    "            \n",
    "        L = y.copy()\n",
    "        for i in range(len(E)):\n",
    "            for j in range(len(E[i])):\n",
    "                L[j] += E[i][j]\n",
    "            \n",
    "        Lbinary = []\n",
    "        for noise in L:\n",
    "            if noise >= 0:\n",
    "                Lbinary.append(0)\n",
    "            else:\n",
    "                Lbinary.append(1)\n",
    "                    \n",
    "        \n",
    "        s = []\n",
    "        for i in range(len(H)):\n",
    "            total = np.dot(H[i], Lbinary)\n",
    "            s.append(total % 2)\n",
    "            \n",
    "        sumOfBits = sum(s)\n",
    "        if(sumOfBits == 0):\n",
    "            return Lbinary\n",
    "        else:\n",
    "            M = [[0 for i in range(len(H[0]))] for j in range(len(H))]\n",
    "            for i in range(len(E)):\n",
    "                for j in range(len(E[0])):\n",
    "                    val = 0\n",
    "                    if E[i][j] != 0:\n",
    "                        for row in range(len(E)):\n",
    "                            if row != i:\n",
    "                                val += E[row][j]\n",
    "                        M[i][j] = val + L[j]\n",
    "                            \n",
    "                        if M[i][j] < -20:\n",
    "                            M[i][j] = -20\n",
    "                        elif M[i][j] > 20:\n",
    "                            M[i][j] = 20\n",
    "    \n",
    "    return Lbinary"
   ]
  },
  {
   "cell_type": "code",
   "execution_count": 3,
   "metadata": {},
   "outputs": [],
   "source": [
    "def softDecisionSimulation(H, r, EbN0dB, maxBlockErros = 100, maxIterations = 200, seed = 0):\n",
    "\n",
    "\tEbN0 = pow(10, EbN0dB / 10)\n",
    "\tEsN0 = EbN0 * r\n",
    "\n",
    "\tlengthOfCode = len(H[0])\n",
    "\tx = [0]*lengthOfCode\n",
    "\tbitErrors = 0\n",
    "\tblockErrors = 0\n",
    "\tI = 0\n",
    "\n",
    "\tnp.random.seed(seed)\n",
    "\n",
    "\twhile blockErrors < maxBlockErros and I < maxIterations:\n",
    "\n",
    "\t\t# pass through AWGN\n",
    "\n",
    "\t\ty = list(awgn([1]*lengthOfCode, EsN0))\n",
    "\n",
    "\t\t# decode for errors\n",
    "\t\tdecodedY = sequentialSumProductDecodingSimulation(y, H)\n",
    "\n",
    "\t\t# count number of errors the decoder missed\n",
    "\t\terrors = errorCounter(x, decodedY)\n",
    "\n",
    "\t\tblockErrors += errors[1]\n",
    "\t\tbitErrors += errors[0]\n",
    "\t\tI += 1\n",
    "\n",
    "\treturn [bitErrors/I, blockErrors/I]"
   ]
  },
  {
   "cell_type": "code",
   "execution_count": 4,
   "metadata": {},
   "outputs": [
    {
     "ename": "NameError",
     "evalue": "name 'BToHamm' is not defined",
     "output_type": "error",
     "traceback": [
      "\u001b[1;31m---------------------------------------------------------------------------\u001b[0m",
      "\u001b[1;31mNameError\u001b[0m                                 Traceback (most recent call last)",
      "\u001b[1;32mc:\\Users\\yousu\\OneDrive\\Desktop\\LDPC Research\\LDPC code\\bit-flipping-decoding.ipynb Cell 8\u001b[0m line \u001b[0;36m4\n\u001b[0;32m      <a href='vscode-notebook-cell:/c%3A/Users/yousu/OneDrive/Desktop/LDPC%20Research/LDPC%20code/bit-flipping-decoding.ipynb#W3sZmlsZQ%3D%3D?line=1'>2</a>\u001b[0m B \u001b[39m=\u001b[39m [[\u001b[39m1\u001b[39m,\u001b[39m2\u001b[39m,\u001b[39m4\u001b[39m], [\u001b[39m2\u001b[39m,\u001b[39m3\u001b[39m,\u001b[39m5\u001b[39m], [\u001b[39m1\u001b[39m,\u001b[39m5\u001b[39m,\u001b[39m6\u001b[39m], [\u001b[39m3\u001b[39m,\u001b[39m4\u001b[39m,\u001b[39m6\u001b[39m]]\n\u001b[0;32m      <a href='vscode-notebook-cell:/c%3A/Users/yousu/OneDrive/Desktop/LDPC%20Research/LDPC%20code/bit-flipping-decoding.ipynb#W3sZmlsZQ%3D%3D?line=2'>3</a>\u001b[0m propVSerror \u001b[39m=\u001b[39m {}\n\u001b[1;32m----> <a href='vscode-notebook-cell:/c%3A/Users/yousu/OneDrive/Desktop/LDPC%20Research/LDPC%20code/bit-flipping-decoding.ipynb#W3sZmlsZQ%3D%3D?line=3'>4</a>\u001b[0m H \u001b[39m=\u001b[39m BToHamm(B)\n\u001b[0;32m      <a href='vscode-notebook-cell:/c%3A/Users/yousu/OneDrive/Desktop/LDPC%20Research/LDPC%20code/bit-flipping-decoding.ipynb#W3sZmlsZQ%3D%3D?line=5'>6</a>\u001b[0m \u001b[39m# Generate data\u001b[39;00m\n\u001b[0;32m      <a href='vscode-notebook-cell:/c%3A/Users/yousu/OneDrive/Desktop/LDPC%20Research/LDPC%20code/bit-flipping-decoding.ipynb#W3sZmlsZQ%3D%3D?line=6'>7</a>\u001b[0m EbN0dB \u001b[39m=\u001b[39m \u001b[39m-\u001b[39m\u001b[39m6\u001b[39m\n",
      "\u001b[1;31mNameError\u001b[0m: name 'BToHamm' is not defined"
     ]
    }
   ],
   "source": [
    "B = [[10,30,40],[5,32,45],[16,18,39],[12,22,38],[15,19,47],[2,17,34],[9,24,42],[1,29,33],[4,27,36],[3,26,35],[11,31,43],[7,21,44],[8,20,48],[14,23,46],[6,28,37],[13,25,41],[14,32,43],[5,23,37],[2,31,36],[1,28,34],[7,25,47],[10,21,33],[15,30,35],[16,26,48],[3,22,46],[12,20,41],[8,18,38],[4,19,45],[6,24,40],[9,27,39],[13,17,42],[11,29,44],[8,24,34],[6,25,36],[9,19,43],[1,20,46],[14,27,42],[7,22,39],[13,18,35],[4,26,40],[16,29,38],[15,21,48],[11,23,45],[3,17,47],[5,28,44],[12,32,33],[2,30,41],[10,31,37],[10,18,36],[4,23,44],[9,29,40],[2,27,38],[8,30,42],[12,28,43],[11,20,37],[1,19,35],[15,31,39],[16,32,41],[5,26,33],[3,25,45],[13,21,34],[14,24,48],[7,17,46],[6,22,47],[7,27,40],[11,18,33],[2,32,35],[10,28,47],[5,24,41],[12,25,37],[3,19,39],[14,31,44],[16,30,34],[13,20,38],[9,22,36],[6,17,45],[4,21,42],[15,29,46],[8,26,43],[1,23,48],[1,25,42],[15,22,40],[8,21,41],[9,18,47],[6,27,43],[11,30,46],[7,31,35],[5,20,36],[14,17,38],[16,28,45],[4,32,37],[13,23,33],[12,26,44],[3,29,48],[2,24,39],[10,19,34],[8,20,36,56,80,81],[6,19,47,52,67,95],[10,25,44,60,71,94],[9,28,40,50,77,91],[2,18,45,59,69,88],[15,29,34,64,76,85],[12,21,38,63,65,87],[13,27,33,53,79,83],[7,30,35,51,75,84],[1,22,48,49,68,96],[11,32,43,55,66,86],[4,26,46,54,70,93],[16,31,39,61,74,92],[14,17,37,62,72,89],[5,23,42,57,78,82],[3,24,41,58,73,90],[6,31,44,63,76,89],[3,27,39,49,66,84],[5,28,35,56,71,96],[13,26,36,55,74,88],[12,22,42,61,77,83],[4,25,38,64,75,82],[14,18,43,50,80,92],[7,29,33,62,69,95],[16,21,34,60,70,81],[10,24,40,59,79,93],[9,30,37,52,65,85],[15,20,45,54,68,90],[8,32,41,51,78,94],[1,23,47,53,73,86],[11,19,48,57,72,87],[2,17,46,58,67,91],[8,22,46,59,66,92],[6,20,33,61,73,96],[10,23,39,56,67,87],[9,19,34,49,75,88],[15,18,48,55,70,91],[4,27,41,52,74,89],[3,30,38,57,71,95],[1,29,40,51,65,82],[16,26,47,58,69,83],[7,31,37,53,77,81],[11,17,35,54,79,85],[12,32,45,50,72,93],[2,28,43,60,76,90],[14,25,36,63,78,86],[5,21,44,64,68,84],[13,24,42,62,80,94]]\n",
    "B = [[1,2,4], [2,3,5], [1,5,6], [3,4,6]]\n",
    "propVSerror = {}\n",
    "H = BToHamm(B)\n",
    "\n",
    "# Generate data\n",
    "EbN0dB = -6\n",
    "while EbN0dB <= 0:\n",
    "    error = softDecisionSimulation(H, 0.5, EbN0dB)[1]\n",
    "    propVSerror[EbN0dB] = error\n",
    "    EbN0dB += 0.005"
   ]
  },
  {
   "cell_type": "code",
   "execution_count": null,
   "metadata": {},
   "outputs": [],
   "source": [
    "EbN0dB = list(propVSerror.keys())\n",
    "BlockError = ([float(propVSerror[k]) for k in EbN0dB])"
   ]
  },
  {
   "cell_type": "code",
   "execution_count": null,
   "metadata": {},
   "outputs": [
    {
     "data": {
      "text/plain": [
       "[<matplotlib.lines.Line2D at 0x270630fd460>]"
      ]
     },
     "execution_count": 11,
     "metadata": {},
     "output_type": "execute_result"
    },
    {
     "data": {
      "image/png": "[encoded data removed]",
      "text/plain": [
       "<Figure size 432x288 with 1 Axes>"
      ]
     },
     "metadata": {
      "needs_background": "light"
     },
     "output_type": "display_data"
    }
   ],
   "source": [
    "fig = plt.figure()\n",
    "ax = plt.axes()\n",
    "ax.set_xlabel('Es/N0')\n",
    "ax.set_ylabel('Log of p Block Error')\n",
    "ax.plot(EbN0dB, BlockError)"
   ]
  },
  {
   "cell_type": "markdown",
   "metadata": {},
   "source": [
    "###### BSCError2 = list(propVSerror.keys())\n",
    "BlockError2 = np.log([float(propVSerror[k]) for k in BSCError2])"
   ]
  },
  {
   "cell_type": "raw",
   "metadata": {},
   "source": [
    "fig = plt.figure()\n",
    "ax = plt.axes()\n",
    "ax.set_xlabel('SNR')\n",
    "ax.set_ylabel('Log of p Block Error')\n",
    "ax.plot(BSCError2, BlockError2)"
   ]
  },
  {
   "cell_type": "code",
   "execution_count": null,
   "metadata": {},
   "outputs": [],
   "source": [
    "EbN0dB2 = list(propVSerror.keys())\n",
    "BlockError2 = ([float(propVSerror[k]) for k in EbN0dB2])"
   ]
  },
  {
   "cell_type": "code",
   "execution_count": null,
   "metadata": {},
   "outputs": [
    {
     "data": {
      "text/plain": [
       "[<matplotlib.lines.Line2D at 0x249fcf2eca0>]"
      ]
     },
     "execution_count": 4,
     "metadata": {},
     "output_type": "execute_result"
    },
    {
     "data": {
      "image/png": "[encoded data removed]",
      "text/plain": [
       "<Figure size 432x288 with 1 Axes>"
      ]
     },
     "metadata": {
      "needs_background": "light"
     },
     "output_type": "display_data"
    }
   ],
   "source": [
    "fig = plt.figure()\n",
    "ax = plt.axes()\n",
    "ax.set_xlabel('Eb/N0 dB')\n",
    "ax.set_ylabel('Log of p Block Error')\n",
    "ax.plot(EbN0dB2, BlockError2)"
   ]
  },
  {
   "cell_type": "code",
   "execution_count": null,
   "metadata": {},
   "outputs": [],
   "source": []
  }
 ],
 "metadata": {
  "kernelspec": {
   "display_name": "Python 3",
   "language": "python",
   "name": "python3"
  },
  "language_info": {
   "codemirror_mode": {
    "name": "ipython",
    "version": 3
   },
   "file_extension": ".py",
   "mimetype": "text/x-python",
   "name": "python",
   "nbconvert_exporter": "python",
   "pygments_lexer": "ipython3",
   "version": "3.11.4"
  }
 },
 "nbformat": 4,
 "nbformat_minor": 4
}
